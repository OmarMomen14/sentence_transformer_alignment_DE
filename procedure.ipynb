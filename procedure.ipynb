{
 "cells": [
  {
   "cell_type": "code",
   "execution_count": null,
   "id": "eee7c0e6-f34e-4870-8456-36c59f1d0801",
   "metadata": {},
   "outputs": [],
   "source": [
    "from align import *\n",
    "from f1_eval import evaluate\n",
    "from tqdm import tqdm\n",
    "from time import sleep"
   ]
  },
  {
   "cell_type": "markdown",
   "id": "41d795e1-9ffe-4230-8c52-70cf36270013",
   "metadata": {},
   "source": [
    "## Experiment --> Test 1:1 Alignments with different models and different thresholds"
   ]
  },
  {
   "cell_type": "code",
   "execution_count": 3,
   "id": "633576cf-5774-4778-8a21-770728346f2a",
   "metadata": {},
   "outputs": [
    {
     "name": "stderr",
     "output_type": "stream",
     "text": [
      "  0%|                                                                                                                                                                                                                | 0/147 [00:09<?, ?it/s]\n"
     ]
    },
    {
     "name": "stdout",
     "output_type": "stream",
     "text": [
      "Model: LaBSE, similarity threshold: 0.7:\n",
      "precision: 0.7589055240061952, recall: 0.5363006202116016, n_gold: 2741, n_out: 1937, correct: 1470, f1: 0.6284737067122703\n",
      "===========================================================================================================\n"
     ]
    },
    {
     "name": "stderr",
     "output_type": "stream",
     "text": [
      "  0%|                                                                                                                                                                                                                | 0/147 [00:08<?, ?it/s]\n"
     ]
    },
    {
     "name": "stdout",
     "output_type": "stream",
     "text": [
      "Model: LaBSE, similarity threshold: 0.75:\n",
      "precision: 0.8332354668232531, recall: 0.517694272163444, n_gold: 2741, n_out: 1703, correct: 1419, f1: 0.6386138613861386\n",
      "===========================================================================================================\n"
     ]
    },
    {
     "name": "stderr",
     "output_type": "stream",
     "text": [
      "  0%|                                                                                                                                                                                                                | 0/147 [00:08<?, ?it/s]\n"
     ]
    },
    {
     "name": "stdout",
     "output_type": "stream",
     "text": [
      "Model: LaBSE, similarity threshold: 0.8:\n",
      "precision: 0.8910045961917269, recall: 0.4950747902225465, n_gold: 2741, n_out: 1523, correct: 1357, f1: 0.6364915572232644\n",
      "===========================================================================================================\n"
     ]
    },
    {
     "name": "stderr",
     "output_type": "stream",
     "text": [
      "  0%|                                                                                                                                                                                                                | 0/147 [00:08<?, ?it/s]\n"
     ]
    },
    {
     "name": "stdout",
     "output_type": "stream",
     "text": [
      "Model: LaBSE, similarity threshold: 0.85:\n",
      "precision: 0.9295977011494253, recall: 0.4720904779277636, n_gold: 2741, n_out: 1392, correct: 1294, f1: 0.626179530607307\n",
      "===========================================================================================================\n"
     ]
    },
    {
     "name": "stderr",
     "output_type": "stream",
     "text": [
      "  0%|                                                                                                                                                                                                                | 0/147 [00:08<?, ?it/s]\n"
     ]
    },
    {
     "name": "stdout",
     "output_type": "stream",
     "text": [
      "Model: LaBSE, similarity threshold: 0.9:\n",
      "precision: 0.9613564668769716, recall: 0.4447282013863553, n_gold: 2741, n_out: 1268, correct: 1219, f1: 0.6081317036667497\n",
      "===========================================================================================================\n"
     ]
    },
    {
     "name": "stderr",
     "output_type": "stream",
     "text": [
      "No sentence-transformers model found with name /home/omar/.cache/torch/sentence_transformers/T-Systems-onsite_cross-en-de-roberta-sentence-transformer. Creating a new one with MEAN pooling.\n",
      "  0%|                                                                                                                                                                                                                | 0/147 [00:08<?, ?it/s]\n"
     ]
    },
    {
     "name": "stdout",
     "output_type": "stream",
     "text": [
      "Model: cross-en-de-roberta, similarity threshold: 0.7:\n",
      "precision: 0.7498705334023822, recall: 0.5282743524261219, n_gold: 2741, n_out: 1931, correct: 1448, f1: 0.6198630136986302\n",
      "===========================================================================================================\n"
     ]
    },
    {
     "name": "stderr",
     "output_type": "stream",
     "text": [
      "No sentence-transformers model found with name /home/omar/.cache/torch/sentence_transformers/T-Systems-onsite_cross-en-de-roberta-sentence-transformer. Creating a new one with MEAN pooling.\n",
      "  0%|                                                                                                                                                                                                                | 0/147 [00:09<?, ?it/s]\n"
     ]
    },
    {
     "name": "stdout",
     "output_type": "stream",
     "text": [
      "Model: cross-en-de-roberta, similarity threshold: 0.75:\n",
      "precision: 0.8262910798122066, recall: 0.5136811382707042, n_gold: 2741, n_out: 1704, correct: 1408, f1: 0.6335208098987627\n",
      "===========================================================================================================\n"
     ]
    },
    {
     "name": "stderr",
     "output_type": "stream",
     "text": [
      "No sentence-transformers model found with name /home/omar/.cache/torch/sentence_transformers/T-Systems-onsite_cross-en-de-roberta-sentence-transformer. Creating a new one with MEAN pooling.\n",
      "  0%|                                                                                                                                                                                                                | 0/147 [00:09<?, ?it/s]\n"
     ]
    },
    {
     "name": "stdout",
     "output_type": "stream",
     "text": [
      "Model: cross-en-de-roberta, similarity threshold: 0.8:\n",
      "precision: 0.8862745098039215, recall: 0.49470995986866106, n_gold: 2741, n_out: 1530, correct: 1356, f1: 0.6349800983376258\n",
      "===========================================================================================================\n"
     ]
    },
    {
     "name": "stderr",
     "output_type": "stream",
     "text": [
      "No sentence-transformers model found with name /home/omar/.cache/torch/sentence_transformers/T-Systems-onsite_cross-en-de-roberta-sentence-transformer. Creating a new one with MEAN pooling.\n",
      "  0%|                                                                                                                                                                                                                | 0/147 [00:09<?, ?it/s]\n"
     ]
    },
    {
     "name": "stdout",
     "output_type": "stream",
     "text": [
      "Model: cross-en-de-roberta, similarity threshold: 0.85:\n",
      "precision: 0.9316546762589928, recall: 0.47245530828164906, n_gold: 2741, n_out: 1390, correct: 1295, f1: 0.6269668361171629\n",
      "===========================================================================================================\n"
     ]
    },
    {
     "name": "stderr",
     "output_type": "stream",
     "text": [
      "No sentence-transformers model found with name /home/omar/.cache/torch/sentence_transformers/T-Systems-onsite_cross-en-de-roberta-sentence-transformer. Creating a new one with MEAN pooling.\n",
      "  0%|                                                                                                                                                                                                                | 0/147 [00:09<?, ?it/s]"
     ]
    },
    {
     "name": "stdout",
     "output_type": "stream",
     "text": [
      "Model: cross-en-de-roberta, similarity threshold: 0.9:\n",
      "precision: 0.9597791798107256, recall: 0.44399854067858446, n_gold: 2741, n_out: 1268, correct: 1217, f1: 0.6071339486156149\n",
      "===========================================================================================================\n"
     ]
    },
    {
     "name": "stderr",
     "output_type": "stream",
     "text": [
      "\n"
     ]
    }
   ],
   "source": [
    "models = {\n",
    "    'LaBSE': 'LaBSE', \n",
    "    'cross-en-de-roberta': 'T-Systems-onsite/cross-en-de-roberta-sentence-transformer'\n",
    "}\n",
    "sim_threshold = [0.7,0.75,0.8,0.85,0.9]\n",
    "\n",
    "complex_file = 'path' # unaligned complex sentences, sentence per line, and a separating line ('.eoa') between sentences of each document   \n",
    "simple_file = 'path' # unaligned simple sentences, sentence per line, and a separating line ('.eoa') between sentences of each document\n",
    "gold_complex = 'path' # aligned complex sentences, sentence per line\n",
    "gold_simple = 'path' # aligned simple sentences, sentence per line\n",
    "\n",
    "for model in models:\n",
    "    for th in sim_threshold:\n",
    "        alignmetns_1_1 = get_1_1_alignments(\n",
    "            complex_file=complex_file,\n",
    "            simple_file=simple_file,\n",
    "            output_file=f'outputs/model_{model}_th_{th}_1_1',\n",
    "            model_name=models[model],\n",
    "            min_similarity=th\n",
    "        )\n",
    "        precision, recall, n_gold, n_out, correct, f1 = evaluate(\n",
    "            gold_src=gold_complex, \n",
    "            gold_tgt=gold_simple, \n",
    "            out_complex=alignmetns_1_1[1], \n",
    "            out_simpl=alignmetns_1_1[2]\n",
    "        )\n",
    "        print(f'Model: {model}, similarity threshold: {th}:')\n",
    "        print(f'precision: {precision}, recall: {recall}, n_gold: {n_gold}, n_out: {n_out}, correct: {correct}, f1: {f1}')\n",
    "        print('===========================================================================================================')"
   ]
  },
  {
   "cell_type": "code",
   "execution_count": null,
   "id": "488ae19b-327b-4d2a-91d3-560257e3b7ab",
   "metadata": {},
   "outputs": [],
   "source": []
  },
  {
   "cell_type": "code",
   "execution_count": null,
   "id": "e794b9dd-9b6c-4326-93b9-500d1cb9ba5b",
   "metadata": {},
   "outputs": [],
   "source": []
  },
  {
   "cell_type": "code",
   "execution_count": null,
   "id": "c4b145ea-4459-4765-93d4-ec1f6e707f6e",
   "metadata": {},
   "outputs": [],
   "source": []
  }
 ],
 "metadata": {
  "kernelspec": {
   "display_name": "Python 3 (ipykernel)",
   "language": "python",
   "name": "python3"
  },
  "language_info": {
   "codemirror_mode": {
    "name": "ipython",
    "version": 3
   },
   "file_extension": ".py",
   "mimetype": "text/x-python",
   "name": "python",
   "nbconvert_exporter": "python",
   "pygments_lexer": "ipython3",
   "version": "3.10.6"
  }
 },
 "nbformat": 4,
 "nbformat_minor": 5
}
